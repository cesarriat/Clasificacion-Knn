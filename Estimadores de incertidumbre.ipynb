{
 "cells": [
  {
   "cell_type": "markdown",
   "metadata": {},
   "source": [
    "Cargamos los paquetes necesarios ,svm vendria a hacer maquina vectores de soporte lo que hace trazar una linea o hiperplano para clasificarlo"
   ]
  },
  {
   "cell_type": "code",
   "execution_count": 79,
   "metadata": {},
   "outputs": [],
   "source": [
    "from sklearn.datasets import load_iris\n",
    "from sklearn.model_selection import train_test_split\n",
    "from sklearn import svm"
   ]
  },
  {
   "cell_type": "markdown",
   "metadata": {},
   "source": [
    "Asignamos a una variable la base de datos"
   ]
  },
  {
   "cell_type": "code",
   "execution_count": 80,
   "metadata": {},
   "outputs": [],
   "source": [
    "iris=load_iris()"
   ]
  },
  {
   "cell_type": "markdown",
   "metadata": {},
   "source": [
    "Definimos los datos de entremientos y pruebas"
   ]
  },
  {
   "cell_type": "code",
   "execution_count": 81,
   "metadata": {},
   "outputs": [],
   "source": [
    "Xe,Xt,ye,yt=train_test_split(iris.data, iris.target)"
   ]
  },
  {
   "cell_type": "code",
   "execution_count": 82,
   "metadata": {},
   "outputs": [],
   "source": [
    "algoritmo = svm.SVC(probability=True)"
   ]
  },
  {
   "cell_type": "markdown",
   "metadata": {},
   "source": [
    "Entrenamos"
   ]
  },
  {
   "cell_type": "code",
   "execution_count": 83,
   "metadata": {
    "scrolled": true
   },
   "outputs": [
    {
     "name": "stderr",
     "output_type": "stream",
     "text": [
      "C:\\Users\\CESAR\\Anaconda3\\Nueva carpeta\\envs\\JAP\\lib\\site-packages\\sklearn\\svm\\base.py:196: FutureWarning: The default value of gamma will change from 'auto' to 'scale' in version 0.22 to account better for unscaled features. Set gamma explicitly to 'auto' or 'scale' to avoid this warning.\n",
      "  \"avoid this warning.\", FutureWarning)\n"
     ]
    },
    {
     "data": {
      "text/plain": [
       "SVC(C=1.0, cache_size=200, class_weight=None, coef0=0.0,\n",
       "  decision_function_shape='ovr', degree=3, gamma='auto_deprecated',\n",
       "  kernel='rbf', max_iter=-1, probability=True, random_state=None,\n",
       "  shrinking=True, tol=0.001, verbose=False)"
      ]
     },
     "execution_count": 83,
     "metadata": {},
     "output_type": "execute_result"
    }
   ],
   "source": [
    "algoritmo.fit(Xe,ye)"
   ]
  },
  {
   "cell_type": "markdown",
   "metadata": {},
   "source": [
    "Decission fuction nos dice que tan alejado esta el punto del Hiperplano este es quien clasifica, necesitamos que nuestro punto este muy alejado de la linea verde.En el grafico a continucion se puede entender que si el punto se encuentra en la linea verde(hiperplano) no estaria muy seguro que decidir, a grupo pertecener, si tengo la probabilidad de un 50% no seria una buena la predicción\n"
   ]
  },
  {
   "cell_type": "code",
   "execution_count": 88,
   "metadata": {},
   "outputs": [
    {
     "data": {
      "image/jpeg": "[encoded data removed]",
      "text/plain": [
       "<IPython.core.display.Image object>"
      ]
     },
     "execution_count": 88,
     "metadata": {},
     "output_type": "execute_result"
    }
   ],
   "source": [
    "#Codigo para subir la Imagen\n",
    "from IPython.display import Image\n",
    "Image(\"Desktop/github/incertidumbre.jpg\")"
   ]
  },
  {
   "cell_type": "code",
   "execution_count": 84,
   "metadata": {},
   "outputs": [
    {
     "data": {
      "text/plain": [
       "array([[-0.33401793,  2.47676227,  0.85725566],\n",
       "       [ 2.38292902,  0.82496968, -0.2078987 ],\n",
       "       [-0.30496943,  0.82222603,  2.4827434 ],\n",
       "       [-0.26961795,  0.83300757,  2.43661037],\n",
       "       [-0.31994586,  2.33651051,  0.98343535],\n",
       "       [-0.33942412,  2.43304495,  0.90637917],\n",
       "       [-0.33994478,  1.05841245,  2.28153233],\n",
       "       [-0.33024317,  2.38794142,  0.94230175],\n",
       "       [-0.2495626 ,  2.49887047,  0.75069213],\n",
       "       [-0.32431271,  0.95898024,  2.36533247]])"
      ]
     },
     "execution_count": 84,
     "metadata": {},
     "output_type": "execute_result"
    }
   ],
   "source": [
    "algoritmo.decision_function_shape= \"ovr\"\n",
    "algoritmo.decision_function(Xt)[:10]"
   ]
  },
  {
   "cell_type": "markdown",
   "metadata": {},
   "source": [
    "Aqui podemos veer en la primera fila, se asocia al segundo valor, en la segunda fila podemosveer que el modelo asocia al primer grupo.Devuelta el numero mas alta es el que esta mas alejado a nuestro hiperplano"
   ]
  },
  {
   "cell_type": "markdown",
   "metadata": {},
   "source": [
    "Nos devuelve el los datos pero en terminos de probabilidad,eso hace el termino predict, ademas muestra solo los primeros 10datos"
   ]
  },
  {
   "cell_type": "code",
   "execution_count": 29,
   "metadata": {},
   "outputs": [
    {
     "data": {
      "text/plain": [
       "array([[0.01451549, 0.00505521, 0.9804293 ],\n",
       "       [0.01739355, 0.05784703, 0.92475942],\n",
       "       [0.01069861, 0.95224889, 0.03705249],\n",
       "       [0.0136919 , 0.43497805, 0.55133005],\n",
       "       [0.01302738, 0.02721836, 0.95975426],\n",
       "       [0.03098824, 0.93178609, 0.03722566],\n",
       "       [0.01201688, 0.96931315, 0.01866997],\n",
       "       [0.94872166, 0.02750958, 0.02376876],\n",
       "       [0.01546966, 0.01023548, 0.97429486],\n",
       "       [0.964605  , 0.01787856, 0.01751645]])"
      ]
     },
     "execution_count": 29,
     "metadata": {},
     "output_type": "execute_result"
    }
   ],
   "source": [
    "algoritmo.predict_proba(Xt)[:10]"
   ]
  },
  {
   "cell_type": "markdown",
   "metadata": {},
   "source": [
    "Ejemplo el primer elemento lo asocia al segundo valor osea a 1, acuerdense que en python las listas comienzan desde cero sinedo este el primer valor"
   ]
  },
  {
   "cell_type": "code",
   "execution_count": 89,
   "metadata": {},
   "outputs": [
    {
     "data": {
      "text/plain": [
       "array([1, 0, 2, 2, 1, 1, 2, 1, 1, 2])"
      ]
     },
     "execution_count": 89,
     "metadata": {},
     "output_type": "execute_result"
    }
   ],
   "source": [
    "algoritmo.predict(Xt)[:10]"
   ]
  },
  {
   "cell_type": "code",
   "execution_count": null,
   "metadata": {},
   "outputs": [],
   "source": []
  }
 ],
 "metadata": {
  "kernelspec": {
   "display_name": "Python 3",
   "language": "python",
   "name": "python3"
  },
  "language_info": {
   "codemirror_mode": {
    "name": "ipython",
    "version": 3
   },
   "file_extension": ".py",
   "mimetype": "text/x-python",
   "name": "python",
   "nbconvert_exporter": "python",
   "pygments_lexer": "ipython3",
   "version": "3.7.2"
  }
 },
 "nbformat": 4,
 "nbformat_minor": 2
}
